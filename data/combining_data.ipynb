{
 "cells": [
  {
   "cell_type": "code",
   "execution_count": 1,
   "id": "555f7d9b",
   "metadata": {},
   "outputs": [
    {
     "name": "stdout",
     "output_type": "stream",
     "text": [
      "Original DataFrame:\n",
      "   Column1  Column2  Column3\n",
      "0        1        4        7\n",
      "1        2        5        8\n",
      "2        3        6        9\n",
      "\n",
      "DataFrame after multiplication:\n",
      "   Column1  Column2  Column3\n",
      "0     1000     4000     7000\n",
      "1     2000     5000     8000\n",
      "2     3000     6000     9000\n"
     ]
    }
   ],
   "source": [
    "import pandas as pd\n",
    "\n",
    "# Assuming you have a pandas DataFrame called 'df'\n",
    "# For illustration, let's create a sample DataFrame\n",
    "data = {\n",
    "    'Column1': [1, 2, 3],\n",
    "    'Column2': [4, 5, 6],\n",
    "    'Column3': [7, 8, 9]\n",
    "}\n",
    "df = pd.DataFrame(data)\n",
    "\n",
    "# Display the original DataFrame\n",
    "print(\"Original DataFrame:\")\n",
    "print(df)\n",
    "\n",
    "# Multiply all elements in the DataFrame by 1000\n",
    "df_multiplied = df.multiply(1000)\n",
    "\n",
    "# Display the DataFrame after multiplication\n",
    "print(\"\\nDataFrame after multiplication:\")\n",
    "print(df_multiplied)\n"
   ]
  },
  {
   "cell_type": "code",
   "execution_count": 22,
   "id": "5664f7e8",
   "metadata": {
    "scrolled": false
   },
   "outputs": [],
   "source": [
    "import pandas as pd\n",
    "import numpy as np\n",
    "import scipy.io\n",
    "\n",
    "# Read data from CSV and create a DataFrame with appropriate column names\n",
    "columns = ['gamble1_1', 'gamble1_2', 'gamble2_1', 'gamble2_2']\n",
    "gamble_data = pd.read_csv('betcouples.csv', header=None, usecols=[1, 3, 7, 9], names=columns)\n",
    "mul_data = gamble_data.iloc[40:, :]\n",
    "linerise_mul_data = mul_data.multiply(1000)\n",
    "gamble_data.iloc[40:, :] = linerise_mul_data\n",
    "\n",
    "# Create the 'dynamic' column with 'additive' for the first 40 rows and 'multiplicative' for the rest\n",
    "gamble_data['wealth'] = 1000\n",
    "gamble_data['dynamic'] = 0\n",
    "gamble_data.loc[40:, 'dynamic'] = 1\n",
    "\n",
    "groups = {'non_timed': {'n_participants': 41, 'nTrials': 80, 'file_name': 'Matrix_Not_Timed'},\n",
    "          'timed':     {'n_participants': 40, 'nTrials': 80, 'file_name': 'Matrix_Timed'}}\n",
    "\n",
    "for g in groups:\n",
    "    duplicated_gamble_data = pd.concat([gamble_data] * groups[g]['n_participants'], ignore_index=True)\n",
    "\n",
    "    df_res = pd.read_excel(f'{groups[g][\"file_name\"]}.xlsx', header=None)\n",
    "    df_melted = pd.melt(df_res.T, var_name='participant', value_name='response')\n",
    "\n",
    "    # Merge the melted data with the duplicated DataFrame\n",
    "    merged_df = pd.concat([df_melted, duplicated_gamble_data], axis=1)\n",
    "\n",
    "    merged_df.to_csv(f'{g}_data.csv', index=False)\n",
    "    \n",
    "    datadict = dict()\n",
    "    \n",
    "    for c in [0,1]:\n",
    "        df = merged_df.query('dynamic == @c')\n",
    "        txt_append = '_add' if c == 0 else '_mul'\n",
    "        \n",
    "        datadict.setdefault(f'x1_1{txt_append}', []).append(np.array(df[\"gamble1_1\"]))\n",
    "        datadict.setdefault(f'x1_2{txt_append}', []).append(np.array(df[\"gamble1_2\"]))\n",
    "        datadict.setdefault(f'x2_1{txt_append}', []).append(np.array(df[\"gamble2_1\"]))\n",
    "        datadict.setdefault(f'x2_2{txt_append}', []).append(np.array(df[\"gamble2_2\"]))\n",
    "        datadict.setdefault(f'wealth{txt_append}', []).append(np.array(df[\"wealth\"]))\n",
    "        datadict.setdefault(f'choice{txt_append}', []).append(np.array(df[\"response\"]))\n",
    "        scipy.io.savemat((f\"{g}_data.mat\"), datadict, oned_as=\"row\")\n"
   ]
  }
 ],
 "metadata": {
  "kernelspec": {
   "display_name": "Python 3 (ipykernel)",
   "language": "python",
   "name": "python3"
  },
  "language_info": {
   "codemirror_mode": {
    "name": "ipython",
    "version": 3
   },
   "file_extension": ".py",
   "mimetype": "text/x-python",
   "name": "python",
   "nbconvert_exporter": "python",
   "pygments_lexer": "ipython3",
   "version": "3.9.7"
  }
 },
 "nbformat": 4,
 "nbformat_minor": 5
}
